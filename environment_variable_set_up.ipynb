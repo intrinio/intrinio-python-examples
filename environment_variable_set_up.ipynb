{
  "nbformat": 4,
  "nbformat_minor": 0,
  "metadata": {
    "colab": {
      "name": "business_analytics_set_up.ipynb",
      "provenance": [],
      "authorship_tag": "ABX9TyOeY1+6BfHWVPSRvsPSxr4p"
    },
    "kernelspec": {
      "name": "python3",
      "display_name": "Python 3"
    }
  },
  "cells": [
    {
      "cell_type": "code",
      "metadata": {
        "id": "yUclTpB78gXO",
        "colab_type": "code",
        "colab": {}
      },
      "source": [
        "#You need to run this script to set up your environment. After you run it, you will also need to import your environment at the start of future scripts. Instructions for that are at the end\n",
        "\n",
        "#To start, hit the \"play\" button on the left. Then follow the pop up instructions to authenticate\n",
        "!pip install colab-env -qU\n",
        "import colab_env"
      ],
      "execution_count": 0,
      "outputs": []
    },
    {
      "cell_type": "code",
      "metadata": {
        "id": "mOtRi6tP9J9m",
        "colab_type": "code",
        "colab": {}
      },
      "source": [
        "#Run this to see that your environment was created. It should print the version. Later, when you have stored your environment variables, it will show you which variables you have stored\n",
        "colab_env.__version__"
      ],
      "execution_count": 0,
      "outputs": []
    },
    {
      "cell_type": "code",
      "metadata": {
        "id": "9EAoaUQu9gQO",
        "colab_type": "code",
        "colab": {}
      },
      "source": [
        "#You can run this code to see whats going on in your environment\n",
        "!more gdrive/My\\ Drive/vars.env"
      ],
      "execution_count": 0,
      "outputs": []
    },
    {
      "cell_type": "code",
      "metadata": {
        "id": "6PEzWYw59z99",
        "colab_type": "code",
        "colab": {}
      },
      "source": [
        "#Now, you can add your PERSONAL credentials to your environment variable. This is your API key. You'll need these to pull data into your scripts later on. \n",
        "\n",
        "#Substitute \"MY_API_KEY\" for your key. Keep the quotation marks:\n",
        "colab_env.envvar_handler.add_env(\"intrinio_key\", \"MY_API_KEY\", overwrite=True)\n"
      ],
      "execution_count": 0,
      "outputs": []
    },
    {
      "cell_type": "code",
      "metadata": {
        "id": "UnBOjo0n-NtE",
        "colab_type": "code",
        "colab": {}
      },
      "source": [
        "#Here is how you load the environment in your scripts in the future\n",
        "\n",
        "#This loads the environmnet\n",
        "import colab_env\n",
        "\n",
        "#This loads the environment variable you set so you can use it in your script\n",
        "import os\n",
        "intrinio_key = os.getenv(\"intrinio_key\")\n",
        "\n",
        "#This link offers a nice tutorial:\n",
        "#https://colab.research.google.com/github/apolitical/colab-env/blob/master/colab_env_testbed.ipynb#scrollTo=2rz2V-k1BZY9"
      ],
      "execution_count": 0,
      "outputs": []
    },
    {
      "cell_type": "code",
      "metadata": {
        "id": "zN6B3LXNFopa",
        "colab_type": "code",
        "colab": {}
      },
      "source": [
        "#Now you can print your API key\n",
        "intrinio_key"
      ],
      "execution_count": 0,
      "outputs": []
    }
  ]
}