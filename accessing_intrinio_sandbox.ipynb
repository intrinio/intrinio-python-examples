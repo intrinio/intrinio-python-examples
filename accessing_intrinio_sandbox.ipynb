{
  "nbformat": 4,
  "nbformat_minor": 0,
  "metadata": {
    "colab": {
      "name": "accessing_intrinio_sandbox.ipynb",
      "provenance": [],
      "collapsed_sections": [],
      "include_colab_link": true
    },
    "kernelspec": {
      "name": "python3",
      "display_name": "Python 3"
    }
  },
  "cells": [
    {
      "cell_type": "markdown",
      "metadata": {
        "id": "view-in-github",
        "colab_type": "text"
      },
      "source": [
        "<a href=\"https://colab.research.google.com/github/intrinio/intrinio-python-examples/blob/master/accessing_intrinio_sandbox.ipynb\" target=\"_parent\"><img src=\"https://colab.research.google.com/assets/colab-badge.svg\" alt=\"Open In Colab\"/></a>"
      ]
    },
    {
      "cell_type": "markdown",
      "metadata": {
        "id": "l_CsVBsnec64",
        "colab_type": "text"
      },
      "source": [
        "This script uses your Intrinio Sandbox API Key. This key authorizes you to pull data for free for numerous data types like fundamentals and stock prices for DOW 30 companies. For production access to all companies, or all data sets, you will need a paid subscription to a specific data feed. "
      ]
    },
    {
      "cell_type": "code",
      "metadata": {
        "id": "s5Oyt6zMkhJa",
        "colab_type": "code",
        "colab": {}
      },
      "source": [
        "#This installes the environment which includes your environment variables, passwords\n",
        "!pip install colab-env -qU\n",
        "\n",
        "#Installing the Intrinio Python SDK: https://docs.intrinio.com/documentation/python\n",
        "!pip install intrinio-sdk\n"
      ],
      "execution_count": 0,
      "outputs": []
    },
    {
      "cell_type": "code",
      "metadata": {
        "id": "qjfOqR5ak7Qo",
        "colab_type": "code",
        "colab": {}
      },
      "source": [
        "#Get packages we will need for this particular script\n",
        "import colab_env\n",
        "import pandas as pd\n",
        "from psycopg2 import connect\n",
        "import pandas.io.sql as psql\n",
        "import os\n",
        "from datetime import datetime\n",
        "import numpy as np\n",
        "import intrinio_sdk\n"
      ],
      "execution_count": 0,
      "outputs": []
    },
    {
      "cell_type": "code",
      "metadata": {
        "id": "XTT7gkGpXeyS",
        "colab_type": "code",
        "colab": {}
      },
      "source": [
        "#If this is your first time, you will need to create environment variables like this:\n",
        "colab_env.envvar_handler.add_env(\"intrinio_sandbox_key\", \"YOUR_SANDBOX_KEY_HERE\", overwrite=True)\n",
        "\n",
        "#Make CERTAIN that you remove your API key and comment out or delete the line of code above after your run it. This ensures that your personal API key stays in your environment and doesn't get shared\n",
        "#You only need to add your API key to your environment variable once in this script, but you will need to do it once per script.\n",
        "\n",
        "#Note that you have multiple API keys in your Intrinio account. This script will work with a production key if you have a subscription with the correct license. If you don't have a subscription use your sandbox key"
      ],
      "execution_count": 0,
      "outputs": []
    },
    {
      "cell_type": "code",
      "metadata": {
        "id": "GTnDF7_ljhHC",
        "colab_type": "code",
        "colab": {}
      },
      "source": [
        "#Call your Intrinio api key from your Google Drive environment variable\n",
        "intrinio_sandbox_key = os.getenv(\"intrinio_sandbox_key\")"
      ],
      "execution_count": 0,
      "outputs": []
    },
    {
      "cell_type": "code",
      "metadata": {
        "id": "IJ0Etyi8pajJ",
        "colab_type": "code",
        "colab": {}
      },
      "source": [
        "#Get Sandbox data, included for free with and Intrinio account: https://docs.intrinio.com/documentation/api_v2/sandbox, for Apple stock prices\n",
        "\n",
        "from __future__ import print_function\n",
        "import time\n",
        "import intrinio_sdk\n",
        "from intrinio_sdk.rest import ApiException\n",
        "from pprint import pprint\n",
        "\n",
        "intrinio_sdk.ApiClient().configuration.api_key['api_key'] = intrinio_sandbox_key\n",
        "\n",
        "security_api = intrinio_sdk.SecurityApi()\n",
        "\n",
        "identifier = 'AAPL' # str | A Security identifier (Ticker, FIGI, ISIN, CUSIP, Intrinio ID)\n",
        "start_date = '2018-01-01' # date | Return prices on or after the date (optional)\n",
        "end_date = '2019-01-01' # date | Return prices on or before the date (optional)\n",
        "frequency = 'daily' # str | Return stock prices in the given frequency (optional) (default to daily)\n",
        "page_size = 100 # int | The number of results to return (optional) (default to 100)\n",
        "next_page = '' # str | Gets the next page of data from a previous API call (optional)\n",
        "\n",
        "try:\n",
        "  api_response = security_api.get_security_stock_prices(identifier, start_date=start_date, end_date=end_date, frequency=frequency, page_size=page_size, next_page=next_page)\n",
        "  #pprint(api_response)\n",
        "except ApiException as e:\n",
        "  print(\"Exception when calling SecurityApi->get_security_stock_prices: %s\\r\\n\" % e)"
      ],
      "execution_count": 0,
      "outputs": []
    },
    {
      "cell_type": "code",
      "metadata": {
        "id": "C5jlnJGPOzL_",
        "colab_type": "code",
        "colab": {}
      },
      "source": [
        "#Assign the api response to a variable, inside of the Pandas Dataframe object\n",
        "aapl_stock_prices = pd.DataFrame(api_response.stock_prices_dict)"
      ],
      "execution_count": 0,
      "outputs": []
    },
    {
      "cell_type": "code",
      "metadata": {
        "id": "B69gA3c9XpcE",
        "colab_type": "code",
        "colab": {}
      },
      "source": [
        "#Print the api_response_df dataframe\n",
        "aapl_stock_prices.head()"
      ],
      "execution_count": 0,
      "outputs": []
    },
    {
      "cell_type": "code",
      "metadata": {
        "id": "F0-A4gfTGboY",
        "colab_type": "code",
        "colab": {}
      },
      "source": [
        "#Download a copy of the output \n",
        "from google.colab import files\n",
        "\n",
        "aapl_stock_prices.to_csv('stock_prices.csv')\n",
        "files.download('stock_prices.csv')"
      ],
      "execution_count": 0,
      "outputs": []
    },
    {
      "cell_type": "code",
      "metadata": {
        "id": "A05yj-_-gMvF",
        "colab_type": "code",
        "colab": {}
      },
      "source": [
        "#Repeating the process to get all company filings for Apple. \n",
        "\n",
        "intrinio_sdk.ApiClient().configuration.api_key['api_key'] = intrinio_sandbox_key\n",
        "\n",
        "company_api = intrinio_sdk.CompanyApi()\n",
        "\n",
        "identifier = 'AAPL' # str | A Company identifier (Ticker, CIK, LEI, Intrinio ID)\n",
        "filed_after = '' # date | Filed on or after this date (optional)\n",
        "filed_before = '' # date | Filed on or before this date (optional)\n",
        "reported_only = False # bool | Only as-reported fundamentals (optional)\n",
        "fiscal_year = '' # int | Only for the given fiscal year (optional)\n",
        "statement_code = '' # str | Only of the given statement code (optional)\n",
        "type = '' # str | Only of the given type (optional)\n",
        "start_date = '' # date | Only on or after the given date (optional)\n",
        "end_date = '' # date | Only on or before the given date (optional)\n",
        "page_size = 100 # int | The number of results to return (optional) (default to 100)\n",
        "next_page = '' # str | Gets the next page of data from a previous API call (optional)\n",
        "\n",
        "try:\n",
        "  api_response_2 = company_api.get_company_fundamentals(identifier, filed_after=filed_after, filed_before=filed_before, reported_only=reported_only, fiscal_year=fiscal_year, statement_code=statement_code, type=type, start_date=start_date, end_date=end_date, page_size=page_size, next_page=next_page)\n",
        "  #pprint(api_response)\n",
        "except ApiException as e:\n",
        "  print(\"Exception when calling CompanyApi->get_company_fundamentals: %s\\r\\n\" % e)"
      ],
      "execution_count": 0,
      "outputs": []
    },
    {
      "cell_type": "code",
      "metadata": {
        "id": "aaJv_aGTgkij",
        "colab_type": "code",
        "colab": {}
      },
      "source": [
        "#Converting to dataframe\n",
        "all_company_filings = pd.DataFrame(api_response_2.fundamentals_dict)\n",
        "\n",
        "#The filing id from this dataframe can be fed in a loop to retrieve all filings for a company.\n"
      ],
      "execution_count": 0,
      "outputs": []
    },
    {
      "cell_type": "code",
      "metadata": {
        "id": "l0Eo6B6Xi67z",
        "colab_type": "code",
        "colab": {}
      },
      "source": [
        "#Pulling historical marketcap for AAPL\n",
        "\n",
        "identifier = 'AAPL' # str | A Company identifier (Ticker, CIK, LEI, Intrinio ID)\n",
        "tag = 'marketcap' # str | An Intrinio data tag ID or code reference [see - https://data.intrinio.com/data-tags]\n",
        "frequency = 'daily' # str | Return historical data in the given frequency (optional) (default to daily)\n",
        "type = '' # str | Return historical data for given fiscal period type (optional)\n",
        "start_date = '2018-01-01' # date | Return historical data on or after this date (optional)\n",
        "end_date = '' # date | Return historical data on or before this date (optional)\n",
        "sort_order = 'desc' # str | Sort by date `asc` or `desc` (optional) (default to desc)\n",
        "page_size = 100 # int | The number of results to return (optional) (default to 100)\n",
        "next_page = '' # str | Gets the next page of data from a previous API call (optional)\n",
        "\n",
        "try:\n",
        "  api_response_3 = company_api.get_company_historical_data(identifier, tag, frequency=frequency, type=type, start_date=start_date, end_date=end_date, sort_order=sort_order, page_size=page_size, next_page=next_page)\n",
        "  #pprint(api_response)\n",
        "except ApiException as e:\n",
        "  print(\"Exception when calling CompanyApi->get_company_historical_data: %s\\r\\n\" % e)"
      ],
      "execution_count": 0,
      "outputs": []
    },
    {
      "cell_type": "code",
      "metadata": {
        "id": "i6Tce0N7jYbt",
        "colab_type": "code",
        "colab": {}
      },
      "source": [
        "#Converting to a dataframe\n",
        "aapl_marketcap = pd.DataFrame(api_response_3.historical_data_dict)"
      ],
      "execution_count": 0,
      "outputs": []
    }
  ]
}