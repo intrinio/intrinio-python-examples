{
  "nbformat": 4,
  "nbformat_minor": 0,
  "metadata": {
    "colab": {
      "name": "standardized_fundamentals.ipynb",
      "provenance": [],
      "authorship_tag": "ABX9TyOce4m6bsY6Ch2ddE7+eWK6",
      "include_colab_link": true
    },
    "kernelspec": {
      "name": "python3",
      "display_name": "Python 3"
    }
  },
  "cells": [
    {
      "cell_type": "markdown",
      "metadata": {
        "id": "view-in-github",
        "colab_type": "text"
      },
      "source": [
        "<a href=\"https://colab.research.google.com/github/intrinio/intrinio-tutorials/blob/master/standardized_fundamentals.ipynb\" target=\"_parent\"><img src=\"https://colab.research.google.com/assets/colab-badge.svg\" alt=\"Open In Colab\"/></a>"
      ]
    },
    {
      "cell_type": "markdown",
      "metadata": {
        "id": "_e-yffaEdgGz",
        "colab_type": "text"
      },
      "source": [
        "This script is intended to show the finer points of pulling standardized fundamentals from the Intrinio API. It shows how to pull the statement IDs for a given ticker, filtering by balance sheet. Then, it takes those statement IDs and uses them to return a dataframe of the statement. \n",
        "\n",
        "This script assumes that you already have an API key and that it is stored as an environment variable using colab-env. \n",
        "\n",
        "If you don't have an API key, head to https://www.intrinio.com. \n",
        "\n",
        "If you are unfamilar with storing your API keys as an environment variable here is a tutorial: https://github.com/intrinio/intrinio-tutorials/blob/master/environment_variable_set_up.ipynb\n"
      ]
    },
    {
      "cell_type": "code",
      "metadata": {
        "id": "iv2zkyvedaJ2",
        "colab_type": "code",
        "colab": {}
      },
      "source": [
        "#Installing colab-env and intrinio_sdk\n",
        "\n",
        "!pip install colab-env -qU\n",
        "!pip install intrinio_sdk -qU\n",
        "\n",
        "#Require packages we will need for this particular script\n",
        "from __future__ import print_function\n",
        "import colab_env\n",
        "import pandas as pd\n",
        "from psycopg2 import connect\n",
        "import os\n",
        "import intrinio_sdk\n",
        "from intrinio_sdk.rest import ApiException\n",
        "from pprint import pprint\n",
        "\n",
        "#Setting option to print 2 decimals so that we can make cents on the filings\n",
        "pd.set_option('display.float_format', lambda x: '%.2f' % x)"
      ],
      "execution_count": null,
      "outputs": []
    },
    {
      "cell_type": "code",
      "metadata": {
        "id": "CflqwT2chph9",
        "colab_type": "code",
        "colab": {}
      },
      "source": [
        "#Call your intrinio api key from your GDrive Passwords folder\n",
        "intrinio_api_key = os.getenv(\"intrinio_api_key\")"
      ],
      "execution_count": 2,
      "outputs": []
    },
    {
      "cell_type": "markdown",
      "metadata": {
        "id": "TtpOpkzCfYaQ",
        "colab_type": "text"
      },
      "source": [
        "\n",
        "The [Intrinio documentation](https://docs.intrinio.com/documentation/python/get_fundamental_standardized_financials_v2) for standardized financials makes it clear that you can use the Intrinio ID, which is a unique identifier for a financial statement, or the lookup code, formatted like this: \n",
        "\n",
        "```\n",
        "id = 'AAPL-income_statement-2018-Q1'```\n",
        "\n",
        "This ID will pull in Apple's income statement for Q1 in 2018. This can be rather inefficient, especially if you want to pull all of Apple's statements or if you don't know when the most recent statement was released.\n",
        "\n",
        "A more efficient method is to pull a list of Apple's financial statements and then to use the unique IDs to pull the most recent statement, or all statements. You can see the lookup [documentation here](https://docs.intrinio.com/documentation/python/lookup_company_fundamental_v2)."
      ]
    },
    {
      "cell_type": "code",
      "metadata": {
        "id": "HKang6-NfXMn",
        "colab_type": "code",
        "colab": {}
      },
      "source": [
        "#First, open a connection to the Intrinio API\n",
        "\n",
        "#Connect to Intrinio API  \n",
        "intrinio_sdk.ApiClient().configuration.api_key['api_key'] = intrinio_api_key\n",
        "\n",
        "#We will use the fundamentals functionality\n",
        "fundamentals_api = intrinio_sdk.FundamentalsApi()\n",
        "\n",
        "#And the company functionality \n",
        "company_api = intrinio_sdk.CompanyApi()"
      ],
      "execution_count": 3,
      "outputs": []
    },
    {
      "cell_type": "code",
      "metadata": {
        "id": "RahqyfQyiJX_",
        "colab_type": "code",
        "colab": {}
      },
      "source": [
        "#Setting an example ticker of Apple\n",
        "ticker = 'AAPL'\n",
        "\n",
        "#Using the company function to return only balance sheet statements, both standardized and as reported, for that ticker\n",
        "intrinio_filings = company_api.get_company_fundamentals(ticker, reported_only = False, statement_code = 'balance_sheet_statement')\n",
        "\n",
        "#From the array of responses, selecting the most recent ID. This is the unique identifier for Apple's most recent balance sheet statement.  \n",
        "id = intrinio_filings.fundamentals_dict[0].get('id')\n",
        "\n"
      ],
      "execution_count": 4,
      "outputs": []
    },
    {
      "cell_type": "code",
      "metadata": {
        "id": "2SvtGxq4i49T",
        "colab_type": "code",
        "colab": {}
      },
      "source": [
        "#Now, using the id we returned above, we try and get an api response. If it fails, print oops!\n",
        "\n",
        "try:\n",
        "  api_response = fundamentals_api.get_fundamental_standardized_financials(id)\n",
        "except: \n",
        "  print('oops!')"
      ],
      "execution_count": 5,
      "outputs": []
    },
    {
      "cell_type": "code",
      "metadata": {
        "id": "V9UYNyvolBrj",
        "colab_type": "code",
        "colab": {}
      },
      "source": [
        "#The api response has many parts- meta data, data about the api call. What we want is a dataframe of the balance sheet.\n",
        "#The loop below pulls the standardized financials out of the response and converts them to a dataframe. \n",
        "\n",
        "statement = {}\n",
        "for standardized_financial in api_response.standardized_financials:\n",
        "  statement[standardized_financial.data_tag.tag] = standardized_financial.value\n",
        "\n",
        "#Convert to df\n",
        "intrinio_balance_sheet = pd.DataFrame(statement, index = [0])"
      ],
      "execution_count": null,
      "outputs": []
    },
    {
      "cell_type": "code",
      "metadata": {
        "id": "hY4bmHIGjnUp",
        "colab_type": "code",
        "colab": {
          "base_uri": "https://localhost:8080/",
          "height": 100
        },
        "outputId": "067491a3-f1ca-4f85-af0b-64ec3dee9f6d"
      },
      "source": [
        "#Here it is! The most recent balance sheet in a dataframe from the ticker selected. \n",
        "intrinio_balance_sheet"
      ],
      "execution_count": 6,
      "outputs": [
        {
          "output_type": "execute_result",
          "data": {
            "text/html": [
              "<div>\n",
              "<style scoped>\n",
              "    .dataframe tbody tr th:only-of-type {\n",
              "        vertical-align: middle;\n",
              "    }\n",
              "\n",
              "    .dataframe tbody tr th {\n",
              "        vertical-align: top;\n",
              "    }\n",
              "\n",
              "    .dataframe thead th {\n",
              "        text-align: right;\n",
              "    }\n",
              "</style>\n",
              "<table border=\"1\" class=\"dataframe\">\n",
              "  <thead>\n",
              "    <tr style=\"text-align: right;\">\n",
              "      <th></th>\n",
              "      <th>cashandequivalents</th>\n",
              "      <th>shortterminvestments</th>\n",
              "      <th>notereceivable</th>\n",
              "      <th>accountsreceivable</th>\n",
              "      <th>netinventory</th>\n",
              "      <th>othercurrentassets</th>\n",
              "      <th>totalcurrentassets</th>\n",
              "      <th>netppe</th>\n",
              "      <th>longterminvestments</th>\n",
              "      <th>othernoncurrentassets</th>\n",
              "      <th>totalnoncurrentassets</th>\n",
              "      <th>totalassets</th>\n",
              "      <th>shorttermdebt</th>\n",
              "      <th>accountspayable</th>\n",
              "      <th>currentdeferredrevenue</th>\n",
              "      <th>othercurrentliabilities</th>\n",
              "      <th>totalcurrentliabilities</th>\n",
              "      <th>longtermdebt</th>\n",
              "      <th>othernoncurrentliabilities</th>\n",
              "      <th>totalnoncurrentliabilities</th>\n",
              "      <th>totalliabilities</th>\n",
              "      <th>commitmentsandcontingencies</th>\n",
              "      <th>commonequity</th>\n",
              "      <th>retainedearnings</th>\n",
              "      <th>aoci</th>\n",
              "      <th>totalcommonequity</th>\n",
              "      <th>totalequity</th>\n",
              "      <th>totalequityandnoncontrollinginterests</th>\n",
              "      <th>totalliabilitiesandequity</th>\n",
              "    </tr>\n",
              "  </thead>\n",
              "  <tbody>\n",
              "    <tr>\n",
              "      <th>0</th>\n",
              "      <td>40174000000.00</td>\n",
              "      <td>53877000000.00</td>\n",
              "      <td>14955000000.00</td>\n",
              "      <td>15722000000.00</td>\n",
              "      <td>3334000000.00</td>\n",
              "      <td>15691000000.00</td>\n",
              "      <td>143753000000.00</td>\n",
              "      <td>35889000000.00</td>\n",
              "      <td>98793000000.00</td>\n",
              "      <td>41965000000.00</td>\n",
              "      <td>140758000000.00</td>\n",
              "      <td>320400000000.00</td>\n",
              "      <td>20421000000.00</td>\n",
              "      <td>32421000000.00</td>\n",
              "      <td>5928000000.00</td>\n",
              "      <td>37324000000.00</td>\n",
              "      <td>96094000000.00</td>\n",
              "      <td>89086000000.00</td>\n",
              "      <td>56795000000.00</td>\n",
              "      <td>145881000000.00</td>\n",
              "      <td>241975000000.00</td>\n",
              "      <td>0.00</td>\n",
              "      <td>48032000000.00</td>\n",
              "      <td>33182000000.00</td>\n",
              "      <td>-2789000000.00</td>\n",
              "      <td>78425000000.00</td>\n",
              "      <td>78425000000.00</td>\n",
              "      <td>78425000000.00</td>\n",
              "      <td>320400000000.00</td>\n",
              "    </tr>\n",
              "  </tbody>\n",
              "</table>\n",
              "</div>"
            ],
            "text/plain": [
              "   cashandequivalents  ...  totalliabilitiesandequity\n",
              "0      40174000000.00  ...            320400000000.00\n",
              "\n",
              "[1 rows x 29 columns]"
            ]
          },
          "metadata": {
            "tags": []
          },
          "execution_count": 6
        }
      ]
    },
    {
      "cell_type": "markdown",
      "metadata": {
        "id": "0jLPgcfij6nc",
        "colab_type": "text"
      },
      "source": [
        "Now that you have the most recent balance sheet, you could write a loop and pull historical balance sheets to add to the dataframe. \n",
        "\n",
        "It is helpful to add the date to the response, shown below."
      ]
    },
    {
      "cell_type": "code",
      "metadata": {
        "id": "1Oyfd9bVkVXU",
        "colab_type": "code",
        "colab": {}
      },
      "source": [
        "#Set index to be dates\n",
        "intrinio_balance_sheet['filing_date'] = api_response.fundamental.end_date\n",
        "\n",
        "intrinio_balance_sheet = intrinio_balance_sheet.set_index(['filing_date'])"
      ],
      "execution_count": 7,
      "outputs": []
    },
    {
      "cell_type": "code",
      "metadata": {
        "id": "Kum6ATF6jscl",
        "colab_type": "code",
        "colab": {
          "base_uri": "https://localhost:8080/",
          "height": 131
        },
        "outputId": "75f50ed8-fef4-41fd-bc8d-b8974ab3a1de"
      },
      "source": [
        "intrinio_balance_sheet"
      ],
      "execution_count": 8,
      "outputs": [
        {
          "output_type": "execute_result",
          "data": {
            "text/html": [
              "<div>\n",
              "<style scoped>\n",
              "    .dataframe tbody tr th:only-of-type {\n",
              "        vertical-align: middle;\n",
              "    }\n",
              "\n",
              "    .dataframe tbody tr th {\n",
              "        vertical-align: top;\n",
              "    }\n",
              "\n",
              "    .dataframe thead th {\n",
              "        text-align: right;\n",
              "    }\n",
              "</style>\n",
              "<table border=\"1\" class=\"dataframe\">\n",
              "  <thead>\n",
              "    <tr style=\"text-align: right;\">\n",
              "      <th></th>\n",
              "      <th>cashandequivalents</th>\n",
              "      <th>shortterminvestments</th>\n",
              "      <th>notereceivable</th>\n",
              "      <th>accountsreceivable</th>\n",
              "      <th>netinventory</th>\n",
              "      <th>othercurrentassets</th>\n",
              "      <th>totalcurrentassets</th>\n",
              "      <th>netppe</th>\n",
              "      <th>longterminvestments</th>\n",
              "      <th>othernoncurrentassets</th>\n",
              "      <th>totalnoncurrentassets</th>\n",
              "      <th>totalassets</th>\n",
              "      <th>shorttermdebt</th>\n",
              "      <th>accountspayable</th>\n",
              "      <th>currentdeferredrevenue</th>\n",
              "      <th>othercurrentliabilities</th>\n",
              "      <th>totalcurrentliabilities</th>\n",
              "      <th>longtermdebt</th>\n",
              "      <th>othernoncurrentliabilities</th>\n",
              "      <th>totalnoncurrentliabilities</th>\n",
              "      <th>totalliabilities</th>\n",
              "      <th>commitmentsandcontingencies</th>\n",
              "      <th>commonequity</th>\n",
              "      <th>retainedearnings</th>\n",
              "      <th>aoci</th>\n",
              "      <th>totalcommonequity</th>\n",
              "      <th>totalequity</th>\n",
              "      <th>totalequityandnoncontrollinginterests</th>\n",
              "      <th>totalliabilitiesandequity</th>\n",
              "    </tr>\n",
              "    <tr>\n",
              "      <th>filing_date</th>\n",
              "      <th></th>\n",
              "      <th></th>\n",
              "      <th></th>\n",
              "      <th></th>\n",
              "      <th></th>\n",
              "      <th></th>\n",
              "      <th></th>\n",
              "      <th></th>\n",
              "      <th></th>\n",
              "      <th></th>\n",
              "      <th></th>\n",
              "      <th></th>\n",
              "      <th></th>\n",
              "      <th></th>\n",
              "      <th></th>\n",
              "      <th></th>\n",
              "      <th></th>\n",
              "      <th></th>\n",
              "      <th></th>\n",
              "      <th></th>\n",
              "      <th></th>\n",
              "      <th></th>\n",
              "      <th></th>\n",
              "      <th></th>\n",
              "      <th></th>\n",
              "      <th></th>\n",
              "      <th></th>\n",
              "      <th></th>\n",
              "      <th></th>\n",
              "    </tr>\n",
              "  </thead>\n",
              "  <tbody>\n",
              "    <tr>\n",
              "      <th>2020-03-28</th>\n",
              "      <td>40174000000.00</td>\n",
              "      <td>53877000000.00</td>\n",
              "      <td>14955000000.00</td>\n",
              "      <td>15722000000.00</td>\n",
              "      <td>3334000000.00</td>\n",
              "      <td>15691000000.00</td>\n",
              "      <td>143753000000.00</td>\n",
              "      <td>35889000000.00</td>\n",
              "      <td>98793000000.00</td>\n",
              "      <td>41965000000.00</td>\n",
              "      <td>140758000000.00</td>\n",
              "      <td>320400000000.00</td>\n",
              "      <td>20421000000.00</td>\n",
              "      <td>32421000000.00</td>\n",
              "      <td>5928000000.00</td>\n",
              "      <td>37324000000.00</td>\n",
              "      <td>96094000000.00</td>\n",
              "      <td>89086000000.00</td>\n",
              "      <td>56795000000.00</td>\n",
              "      <td>145881000000.00</td>\n",
              "      <td>241975000000.00</td>\n",
              "      <td>0.00</td>\n",
              "      <td>48032000000.00</td>\n",
              "      <td>33182000000.00</td>\n",
              "      <td>-2789000000.00</td>\n",
              "      <td>78425000000.00</td>\n",
              "      <td>78425000000.00</td>\n",
              "      <td>78425000000.00</td>\n",
              "      <td>320400000000.00</td>\n",
              "    </tr>\n",
              "  </tbody>\n",
              "</table>\n",
              "</div>"
            ],
            "text/plain": [
              "             cashandequivalents  ...  totalliabilitiesandequity\n",
              "filing_date                      ...                           \n",
              "2020-03-28       40174000000.00  ...            320400000000.00\n",
              "\n",
              "[1 rows x 29 columns]"
            ]
          },
          "metadata": {
            "tags": []
          },
          "execution_count": 8
        }
      ]
    }
  ]
}