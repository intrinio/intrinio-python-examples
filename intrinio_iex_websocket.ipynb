{
  "nbformat": 4,
  "nbformat_minor": 0,
  "metadata": {
    "colab": {
      "name": "intrinio_iex_websocket",
      "provenance": [],
      "authorship_tag": "ABX9TyOTR7+9o2gX8M9NyhVCUUIa",
      "include_colab_link": true
    },
    "kernelspec": {
      "name": "python3",
      "display_name": "Python 3"
    }
  },
  "cells": [
    {
      "cell_type": "markdown",
      "metadata": {
        "id": "view-in-github",
        "colab_type": "text"
      },
      "source": [
        "<a href=\"https://colab.research.google.com/github/intrinio/intrinio-python-examples/blob/master/intrinio_iex_websocket.ipynb\" target=\"_parent\"><img src=\"https://colab.research.google.com/assets/colab-badge.svg\" alt=\"Open In Colab\"/></a>"
      ]
    },
    {
      "cell_type": "markdown",
      "metadata": {
        "id": "x-ckTV9YvOZq",
        "colab_type": "text"
      },
      "source": [
        "# Startup "
      ]
    },
    {
      "cell_type": "code",
      "metadata": {
        "id": "A8JJpwu0uz05",
        "colab_type": "code",
        "colab": {}
      },
      "source": [
        "#After you do that once, make sure to remove your passwords- they are stored on your google drive now.\n",
        "#This loads the environment which includes your environment variables, passwords, etc\n",
        "\n",
        "!pip install colab-env -qU\n",
        "import colab_env\n",
        "\n",
        "#This is the package from https://github.com/intrinio/intrinio-realtime-python-sdk\n",
        "!pip install intriniorealtime\n",
        "\n",
        "from intriniorealtime.client import IntrinioRealtimeClient\n",
        "import os"
      ],
      "execution_count": 0,
      "outputs": []
    },
    {
      "cell_type": "code",
      "metadata": {
        "id": "QBPt0TsaSUVG",
        "colab_type": "code",
        "colab": {}
      },
      "source": [
        "#If this is your first time, you will need to create environment variables like this for your wanderella passwords:\n",
        "colab_env.envvar_handler.add_env(\"intrinio_key\", \"MY_API_KEY\", overwrite=True)\n",
        "\n",
        "#Make CERTAIN that you remove your API key and comment out or delete the line of code above after your run it. This ensures that your personal API key stays in your environment and doesn't get shared\n",
        "#You only need to add your API key to your environment variable once in this script, but you will need to do it once per script."
      ],
      "execution_count": 0,
      "outputs": []
    },
    {
      "cell_type": "code",
      "metadata": {
        "id": "5gV5pZBT2xc4",
        "colab_type": "code",
        "colab": {}
      },
      "source": [
        "#Grabbing your API Key from your local environment variable\n",
        "intrinio_key = os.getenv(\"intrinio_key\")"
      ],
      "execution_count": 0,
      "outputs": []
    },
    {
      "cell_type": "markdown",
      "metadata": {
        "id": "86O1dc8bvUx8",
        "colab_type": "text"
      },
      "source": [
        "# Connect to Websocket"
      ]
    },
    {
      "cell_type": "code",
      "metadata": {
        "id": "n0Tu8rvyvXvj",
        "colab_type": "code",
        "colab": {}
      },
      "source": [
        "#This code codes directly from the Intrinio documentation\n",
        "def on_quote(quote, backlog):\n",
        "    print(\"QUOTE: \" , quote, \"BACKLOG LENGTH: \", backlog)\n",
        "    \n",
        "options = {\n",
        "    'api_key': intrinio_key,\n",
        "    'provider': 'iex',\n",
        "    'on_quote': on_quote\n",
        "}"
      ],
      "execution_count": 0,
      "outputs": []
    },
    {
      "cell_type": "code",
      "metadata": {
        "id": "qWkhSU2D3qUD",
        "colab_type": "code",
        "colab": {}
      },
      "source": [
        "#Using the function above to connect to websocket streams for 3 tickers\n",
        "client = IntrinioRealtimeClient(options)\n",
        "client.join(['AAPL','GE','MSFT'])\n",
        "client.connect()\n",
        "client.keep_alive()"
      ],
      "execution_count": 0,
      "outputs": []
    }
  ]
}